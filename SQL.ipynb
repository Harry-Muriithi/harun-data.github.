{
 "cells": [
  {
   "cell_type": "code",
   "execution_count": 1,
   "id": "cdf41da1-9b5b-40ba-9801-c3baabc8dc4f",
   "metadata": {},
   "outputs": [
    {
     "name": "stdout",
     "output_type": "stream",
     "text": [
      "['Disbursements', 'Repayments']\n"
     ]
    }
   ],
   "source": [
    "import pandas as pd\n",
    "\n",
    "file_path = \"C:\\\\Users\\\\LENOVO\\\\Desktop\\\\Crediable assessment\\\\BI_Analyst_Case_Study_Data.xlsx\"\n",
    "\n",
    "xls = pd.ExcelFile(file_path, engine=\"openpyxl\")  # Explicitly specify openpyxl\n",
    "print(xls.sheet_names)"
   ]
  },
  {
   "cell_type": "code",
   "execution_count": 26,
   "id": "0c89b3e1-81e9-492b-943e-547391b2fbf9",
   "metadata": {},
   "outputs": [
    {
     "data": {
      "text/plain": [
       "(                                         customer_id  disb_date   tenure  \\\n",
       " 0  91810ca1aa097db79f050f38e9946fa5482b4e28c925e2... 2024-03-19  14 days   \n",
       " 1  42ca06e6fe1ff9803e82a5c20184671b54090e488f78d6... 2024-03-19   7 days   \n",
       " 2  b23747f53af805e18ad16a4ef235b6642d88f9134644ff... 2024-03-19   7 days   \n",
       " 3  1bd32f9b083fc6ddfffd65730fbfa66654fa76a19b0b0e... 2024-03-19  14 days   \n",
       " 4  e7cfbaa97ba7702c52df5f1dddba54bd26923ebad945f1... 2024-03-19   7 days   \n",
       " \n",
       "                         account_num  loan_amount  loan_fee  \n",
       " 0  3O66YENWELA6E2H1R9YLX0LDZNOMNHD4          360      43.2  \n",
       " 1  6XWHXKKR1W2HIA8I0V75PZFZBXUUGSVO           70       7.0  \n",
       " 2  OCGK3RJZ91A999VXD4VB3LATPSME3J5L         3500     350.0  \n",
       " 3  9X3Q682DOR7927IMMJLFHBGP0RP7YF5C         3500     420.0  \n",
       " 4  AQH88NNF8S76MGJL4J4ULEAE18O0KLWH          120      12.0  ,\n",
       "                          date_time  \\\n",
       " 0  27-JUN-24 07.16.36.000000000 AM   \n",
       " 1  27-JUN-24 05.26.50.000000000 PM   \n",
       " 2  27-JUN-24 06.45.40.000000000 PM   \n",
       " 3  27-JUN-24 01.24.57.000000000 PM   \n",
       " 4  27-JUN-24 01.31.44.000000000 PM   \n",
       " \n",
       "                                          customer_id   amount  rep_month  \\\n",
       " 0  683131338d401fda38410a808797b7706bc3e364d0fe77...   500.65     202406   \n",
       " 1  56a41251185bd205961556399289804607ccc660392837...  2833.33     202406   \n",
       " 2  000e57e83f161e4ba6458b3e32c00815405c5a005e652b...   143.98     202406   \n",
       " 3  f3606d5ac9a89e0251a60d7183a09bc742eba2e36882af...  1000.00     202406   \n",
       " 4  f3606d5ac9a89e0251a60d7183a09bc742eba2e36882af...   801.00     202406   \n",
       " \n",
       "   repayment_type  \n",
       " 0      Automatic  \n",
       " 1      Automatic  \n",
       " 2      Automatic  \n",
       " 3      Automatic  \n",
       " 4         Manual  )"
      ]
     },
     "execution_count": 26,
     "metadata": {},
     "output_type": "execute_result"
    }
   ],
   "source": [
    "# Load the data from both sheets\n",
    "disbursements_df = pd.read_excel(xls, sheet_name=\"Disbursements\")\n",
    "repayments_df = pd.read_excel(xls, sheet_name=\"Repayments\")\n",
    "\n",
    "# Display first few rows of each dataframe\n",
    "disbursements_df.head(), repayments_df.head()\n"
   ]
  },
  {
   "cell_type": "code",
   "execution_count": 9,
   "id": "d3dc1af8-c422-4d31-b3a1-6131728adf22",
   "metadata": {},
   "outputs": [],
   "source": [
    "import pandas as pd\n",
    "import sqlite3"
   ]
  },
  {
   "cell_type": "code",
   "execution_count": 10,
   "id": "708e66c9-8519-43cf-a9ea-af372210f003",
   "metadata": {},
   "outputs": [
    {
     "data": {
      "text/plain": [
       "66016"
      ]
     },
     "execution_count": 10,
     "metadata": {},
     "output_type": "execute_result"
    }
   ],
   "source": [
    "# Load sheets into DataFrames\n",
    "disbursements_df = pd.read_excel(xls, sheet_name=\"Disbursements\")\n",
    "repayments_df = pd.read_excel(xls, sheet_name=\"Repayments\")\n",
    "\n",
    "# Create SQLite in-memory database\n",
    "conn = sqlite3.connect(\":memory:\")\n",
    "\n",
    "# Save data to SQL tables\n",
    "disbursements_df.to_sql(\"Disbursements\", conn, index=False, if_exists=\"replace\")\n",
    "repayments_df.to_sql(\"Repayments\", conn, index=False, if_exists=\"replace\")"
   ]
  },
  {
   "cell_type": "code",
   "execution_count": 28,
   "id": "34059682-c4d5-42c3-9a04-047d31a53a48",
   "metadata": {},
   "outputs": [
    {
     "name": "stdout",
     "output_type": "stream",
     "text": [
      "                                         customer_id  loan_amount  \\\n",
      "0  1cdcc3dd95cdfad6618ceae4d951e4df21b556cd06f3b6...         3500   \n",
      "1  4c4042e1517ed50bc4f9ac6edb40b00f94873bfb8d8e83...         2240   \n",
      "2  ee44dc043cfe2b0618854cc7e56833e277fe2b33418c05...          950   \n",
      "3  443144f728d5a23010817c470717bd54c7f98167eb6e13...         1000   \n",
      "4  7adb0ef8b2f9cc2f927fc12e6112cfbc15cec7cfb5a4b2...         1030   \n",
      "\n",
      "   total_repaid  outstanding_balance  \n",
      "0       1089.86              2410.14  \n",
      "1        725.00              1515.00  \n",
      "2        240.98               709.02  \n",
      "3        484.47               515.53  \n",
      "4        602.62               427.38  \n"
     ]
    }
   ],
   "source": [
    "# Load data into SQL tables\n",
    "disbursements_df.to_sql(\"Disbursements\", conn, index=False, if_exists=\"replace\")\n",
    "repayments_df.to_sql(\"Repayments\", conn, index=False, if_exists=\"replace\")\n",
    "\n",
    "# SQL query to calculate outstanding balances for each customer\n",
    "query = \"\"\"\n",
    "SELECT \n",
    "    d.customer_id, \n",
    "    d.loan_amount, \n",
    "    IFNULL(SUM(r.amount), 0) AS total_repaid, \n",
    "    (d.loan_amount - IFNULL(SUM(r.amount), 0)) AS outstanding_balance\n",
    "FROM Disbursements d\n",
    "LEFT JOIN Repayments r ON d.customer_id = r.customer_id\n",
    "GROUP BY d.customer_id, d.loan_amount\n",
    "ORDER BY outstanding_balance DESC;\n",
    "\"\"\"\n",
    "\n",
    "# Execute query and convert result to DataFrame\n",
    "credit_exposure_df = pd.read_sql(query, conn)\n",
    "\n",
    "# Display the first few rows\n",
    "print(credit_exposure_df.head())\n"
   ]
  },
  {
   "cell_type": "code",
   "execution_count": 21,
   "id": "89a518a3-a479-4031-a2af-8cb96f5b1b90",
   "metadata": {},
   "outputs": [
    {
     "name": "stdout",
     "output_type": "stream",
     "text": [
      "\n",
      "Provisioning & Write-Off Analysis:\n",
      "                                         customer_id  loan_amount  \\\n",
      "0  000514554c34603e8a7551050e988732cf11a22de40fa6...         3500   \n",
      "1  000514554c34603e8a7551050e988732cf11a22de40fa6...         3500   \n",
      "2  000514554c34603e8a7551050e988732cf11a22de40fa6...         3500   \n",
      "3  000514554c34603e8a7551050e988732cf11a22de40fa6...         3500   \n",
      "4  000514554c34603e8a7551050e988732cf11a22de40fa6...         3500   \n",
      "\n",
      "   outstanding_balance            disb_date  days_overdue  provision_amount  \n",
      "0             -27600.0  2024-01-14 00:00:00    432.555135          -27600.0  \n",
      "1             -27600.0  2024-02-23 00:00:00    392.555135          -27600.0  \n",
      "2             -27600.0  2024-03-07 00:00:00    379.555135          -27600.0  \n",
      "3             -27600.0  2024-04-24 00:00:00    331.555135          -27600.0  \n",
      "4             -27600.0  2024-05-08 00:00:00    317.555135          -27600.0  \n"
     ]
    }
   ],
   "source": [
    "#Provisioning and Write-Off Analysis\n",
    "query = \"\"\"\n",
    "SELECT \n",
    "    d.customer_id, \n",
    "    d.loan_amount, \n",
    "    (d.loan_amount - IFNULL(SUM(r.amount), 0)) AS outstanding_balance,\n",
    "    d.disb_date,\n",
    "    julianday('now') - julianday(d.disb_date) AS days_overdue,\n",
    "    CASE \n",
    "        WHEN julianday('now') - julianday(d.disb_date) BETWEEN 30 AND 60 THEN (d.loan_amount - IFNULL(SUM(r.amount), 0)) * 0.10\n",
    "        WHEN julianday('now') - julianday(d.disb_date) BETWEEN 61 AND 90 THEN (d.loan_amount - IFNULL(SUM(r.amount), 0)) * 0.25\n",
    "        WHEN julianday('now') - julianday(d.disb_date) BETWEEN 91 AND 180 THEN (d.loan_amount - IFNULL(SUM(r.amount), 0)) * 0.50\n",
    "        WHEN julianday('now') - julianday(d.disb_date) > 180 THEN (d.loan_amount - IFNULL(SUM(r.amount), 0)) * 1.00\n",
    "        ELSE 0\n",
    "    END AS provision_amount\n",
    "FROM Disbursements d\n",
    "LEFT JOIN Repayments r ON d.customer_id = r.customer_id\n",
    "GROUP BY d.customer_id, d.disb_date;\n",
    "\"\"\"\n",
    "\n",
    "# Execute query\n",
    "provisioning_df = pd.read_sql(query, conn)\n",
    "\n",
    "# Display results\n",
    "print(\"\\nProvisioning & Write-Off Analysis:\")\n",
    "print(provisioning_df.head())\n"
   ]
  },
  {
   "cell_type": "code",
   "execution_count": 23,
   "id": "4f5de355-61d8-4040-b8a4-d109159807b3",
   "metadata": {},
   "outputs": [
    {
     "name": "stdout",
     "output_type": "stream",
     "text": [
      "\n",
      "Risk Alerts & Portfolio Monitoring:\n",
      "                                         customer_id  loan_amount  \\\n",
      "0  1cdcc3dd95cdfad6618ceae4d951e4df21b556cd06f3b6...         3500   \n",
      "1  4c4042e1517ed50bc4f9ac6edb40b00f94873bfb8d8e83...         2240   \n",
      "2  ee44dc043cfe2b0618854cc7e56833e277fe2b33418c05...          950   \n",
      "3  443144f728d5a23010817c470717bd54c7f98167eb6e13...         1000   \n",
      "4  7adb0ef8b2f9cc2f927fc12e6112cfbc15cec7cfb5a4b2...         1030   \n",
      "\n",
      "   outstanding_balance            disb_date  days_overdue risk_level  \n",
      "0              2410.14  2024-01-02 00:00:00    444.557451  HIGH RISK  \n",
      "1              1515.00  2024-02-09 00:00:00    406.557451  HIGH RISK  \n",
      "2               709.02  2024-02-20 00:00:00    395.557451  HIGH RISK  \n",
      "3               515.53  2024-03-04 00:00:00    382.557451  HIGH RISK  \n",
      "4               427.38  2024-02-24 00:00:00    391.557451  HIGH RISK  \n"
     ]
    }
   ],
   "source": [
    "# Portfolio Risk Alerts\n",
    "query = \"\"\"\n",
    "SELECT \n",
    "    d.customer_id, \n",
    "    d.loan_amount, \n",
    "    (d.loan_amount - IFNULL(SUM(r.amount), 0)) AS outstanding_balance,\n",
    "    d.disb_date,\n",
    "    julianday('now') - julianday(d.disb_date) AS days_overdue,\n",
    "    CASE \n",
    "        WHEN julianday('now') - julianday(d.disb_date) > 60 THEN 'HIGH RISK'\n",
    "        WHEN julianday('now') - julianday(d.disb_date) BETWEEN 30 AND 60 THEN 'MEDIUM RISK'\n",
    "        ELSE 'LOW RISK'\n",
    "    END AS risk_level\n",
    "FROM Disbursements d\n",
    "LEFT JOIN Repayments r ON d.customer_id = r.customer_id\n",
    "GROUP BY d.customer_id, d.disb_date\n",
    "ORDER BY risk_level DESC, outstanding_balance DESC;\n",
    "\"\"\"\n",
    "\n",
    "# Execute query\n",
    "risk_alerts_df = pd.read_sql(query, conn)\n",
    "\n",
    "# Display results\n",
    "print(\"\\nRisk Alerts & Portfolio Monitoring:\")\n",
    "print(risk_alerts_df.head())\n"
   ]
  },
  {
   "cell_type": "code",
   "execution_count": 24,
   "id": "6d248ddb-792a-456f-9205-4e247eee9142",
   "metadata": {},
   "outputs": [
    {
     "name": "stdout",
     "output_type": "stream",
     "text": [
      "\n",
      "Loan Product Recommendations:\n",
      "                                         customer_id  loan_amount  \\\n",
      "0  000514554c34603e8a7551050e988732cf11a22de40fa6...         3500   \n",
      "1  000514554c34603e8a7551050e988732cf11a22de40fa6...         3500   \n",
      "2  000514554c34603e8a7551050e988732cf11a22de40fa6...         3500   \n",
      "3  000514554c34603e8a7551050e988732cf11a22de40fa6...         3500   \n",
      "4  000514554c34603e8a7551050e988732cf11a22de40fa6...         3500   \n",
      "\n",
      "   total_repaid  outstanding_balance  on_time_payments  late_payments  \\\n",
      "0       31100.0             -27600.0                30             10   \n",
      "1       31100.0             -27600.0                30             10   \n",
      "2       31100.0             -27600.0                30             10   \n",
      "3       31100.0             -27600.0                30             10   \n",
      "4       31100.0             -27600.0                30             10   \n",
      "\n",
      "  customer_category  \n",
      "0    LOYAL CUSTOMER  \n",
      "1    LOYAL CUSTOMER  \n",
      "2    LOYAL CUSTOMER  \n",
      "3    LOYAL CUSTOMER  \n",
      "4    LOYAL CUSTOMER  \n"
     ]
    }
   ],
   "source": [
    "#Loan Product Recommendations\n",
    "query = \"\"\"\n",
    "SELECT \n",
    "    d.customer_id, \n",
    "    d.loan_amount, \n",
    "    IFNULL(SUM(r.amount), 0) AS total_repaid, \n",
    "    (d.loan_amount - IFNULL(SUM(r.amount), 0)) AS outstanding_balance,\n",
    "    COUNT(CASE WHEN r.date_time <= d.disb_date THEN 1 ELSE NULL END) AS on_time_payments,\n",
    "    COUNT(CASE WHEN r.date_time > d.disb_date THEN 1 ELSE NULL END) AS late_payments,\n",
    "    CASE \n",
    "        WHEN COUNT(CASE WHEN r.date_time <= d.disb_date THEN 1 ELSE NULL END) >= 3 THEN 'LOYAL CUSTOMER'\n",
    "        WHEN COUNT(CASE WHEN r.date_time > d.disb_date THEN 1 ELSE NULL END) >= 3 THEN 'NEEDS FLEXIBLE TERMS'\n",
    "        ELSE 'STANDARD CUSTOMER'\n",
    "    END AS customer_category\n",
    "FROM Disbursements d\n",
    "LEFT JOIN Repayments r ON d.customer_id = r.customer_id\n",
    "GROUP BY d.customer_id, d.disb_date;\n",
    "\"\"\"\n",
    "\n",
    "# Execute query\n",
    "customer_segments_df = pd.read_sql(query, conn)\n",
    "\n",
    "# Display results\n",
    "print(\"\\nLoan Product Recommendations:\")\n",
    "print(customer_segments_df.head())\n"
   ]
  }
 ],
 "metadata": {
  "kernelspec": {
   "display_name": "Python 3 (ipykernel)",
   "language": "python",
   "name": "python3"
  },
  "language_info": {
   "codemirror_mode": {
    "name": "ipython",
    "version": 3
   },
   "file_extension": ".py",
   "mimetype": "text/x-python",
   "name": "python",
   "nbconvert_exporter": "python",
   "pygments_lexer": "ipython3",
   "version": "3.13.0"
  }
 },
 "nbformat": 4,
 "nbformat_minor": 5
}
