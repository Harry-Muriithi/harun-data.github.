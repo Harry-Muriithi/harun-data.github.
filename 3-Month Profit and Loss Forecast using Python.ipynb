{
 "cells": [
  {
   "cell_type": "code",
   "execution_count": 36,
   "id": "ab4e9b68-a9bf-4823-9025-d010376fa8da",
   "metadata": {},
   "outputs": [
    {
     "name": "stdout",
     "output_type": "stream",
     "text": [
      "Defaulting to user installation because normal site-packages is not writeable\n",
      "Collecting openpyxl\n",
      "  Downloading openpyxl-3.1.5-py2.py3-none-any.whl.metadata (2.5 kB)\n",
      "Collecting et-xmlfile (from openpyxl)\n",
      "  Downloading et_xmlfile-2.0.0-py3-none-any.whl.metadata (2.7 kB)\n",
      "Downloading openpyxl-3.1.5-py2.py3-none-any.whl (250 kB)\n",
      "Downloading et_xmlfile-2.0.0-py3-none-any.whl (18 kB)\n",
      "Installing collected packages: et-xmlfile, openpyxl\n",
      "Successfully installed et-xmlfile-2.0.0 openpyxl-3.1.5\n"
     ]
    },
    {
     "name": "stderr",
     "output_type": "stream",
     "text": [
      "\n",
      "[notice] A new release of pip is available: 24.3.1 -> 25.0.1\n",
      "[notice] To update, run: python.exe -m pip install --upgrade pip\n"
     ]
    }
   ],
   "source": [
    "!pip install openpyxl\n"
   ]
  },
  {
   "cell_type": "code",
   "execution_count": 30,
   "id": "169baf89-efdb-4b8a-a630-094c702252d0",
   "metadata": {},
   "outputs": [],
   "source": [
    "#importing the required packages\n",
    "import pandas as pd\n",
    "import numpy as np\n",
    "import matplotlib.pyplot as plt\n",
    "import seaborn as sns\n",
    "import statsmodels.api as sm\n",
    "from statsmodels.tsa.stattools import adfuller\n",
    "from statsmodels.graphics.tsaplots import plot_acf, plot_pacf\n",
    "from statsmodels.tsa.arima.model import ARIMA\n"
   ]
  },
  {
   "cell_type": "code",
   "execution_count": 37,
   "id": "c427e625-e96c-45db-9b74-0639bbba1900",
   "metadata": {},
   "outputs": [
    {
     "name": "stdout",
     "output_type": "stream",
     "text": [
      "['Disbursements', 'Repayments']\n"
     ]
    }
   ],
   "source": [
    "import pandas as pd\n",
    "\n",
    "file_path = \"C:\\\\Users\\\\LENOVO\\\\Desktop\\\\Crediable assessment\\\\BI_Analyst_Case_Study_Data.xlsx\"\n",
    "\n",
    "xls = pd.ExcelFile(file_path, engine=\"openpyxl\")  # Explicitly specify openpyxl\n",
    "print(xls.sheet_names)\n"
   ]
  },
  {
   "cell_type": "code",
   "execution_count": 38,
   "id": "5d478476-1749-4259-9f84-2042c82eb1fa",
   "metadata": {},
   "outputs": [
    {
     "data": {
      "text/plain": [
       "(                                         customer_id  disb_date   tenure  \\\n",
       " 0  91810ca1aa097db79f050f38e9946fa5482b4e28c925e2... 2024-03-19  14 days   \n",
       " 1  42ca06e6fe1ff9803e82a5c20184671b54090e488f78d6... 2024-03-19   7 days   \n",
       " 2  b23747f53af805e18ad16a4ef235b6642d88f9134644ff... 2024-03-19   7 days   \n",
       " 3  1bd32f9b083fc6ddfffd65730fbfa66654fa76a19b0b0e... 2024-03-19  14 days   \n",
       " 4  e7cfbaa97ba7702c52df5f1dddba54bd26923ebad945f1... 2024-03-19   7 days   \n",
       " \n",
       "                         account_num  loan_amount  loan_fee  \n",
       " 0  3O66YENWELA6E2H1R9YLX0LDZNOMNHD4          360      43.2  \n",
       " 1  6XWHXKKR1W2HIA8I0V75PZFZBXUUGSVO           70       7.0  \n",
       " 2  OCGK3RJZ91A999VXD4VB3LATPSME3J5L         3500     350.0  \n",
       " 3  9X3Q682DOR7927IMMJLFHBGP0RP7YF5C         3500     420.0  \n",
       " 4  AQH88NNF8S76MGJL4J4ULEAE18O0KLWH          120      12.0  ,\n",
       "                          date_time  \\\n",
       " 0  27-JUN-24 07.16.36.000000000 AM   \n",
       " 1  27-JUN-24 05.26.50.000000000 PM   \n",
       " 2  27-JUN-24 06.45.40.000000000 PM   \n",
       " 3  27-JUN-24 01.24.57.000000000 PM   \n",
       " 4  27-JUN-24 01.31.44.000000000 PM   \n",
       " \n",
       "                                          customer_id   amount  rep_month  \\\n",
       " 0  683131338d401fda38410a808797b7706bc3e364d0fe77...   500.65     202406   \n",
       " 1  56a41251185bd205961556399289804607ccc660392837...  2833.33     202406   \n",
       " 2  000e57e83f161e4ba6458b3e32c00815405c5a005e652b...   143.98     202406   \n",
       " 3  f3606d5ac9a89e0251a60d7183a09bc742eba2e36882af...  1000.00     202406   \n",
       " 4  f3606d5ac9a89e0251a60d7183a09bc742eba2e36882af...   801.00     202406   \n",
       " \n",
       "   repayment_type  \n",
       " 0      Automatic  \n",
       " 1      Automatic  \n",
       " 2      Automatic  \n",
       " 3      Automatic  \n",
       " 4         Manual  )"
      ]
     },
     "execution_count": 38,
     "metadata": {},
     "output_type": "execute_result"
    }
   ],
   "source": [
    "# Load and inspect the first few rows of each sheet\n",
    "df_disbursements = pd.read_excel(xls, sheet_name=\"Disbursements\")\n",
    "df_repayments = pd.read_excel(xls, sheet_name=\"Repayments\")\n",
    "\n",
    "# Display the first few rows of each sheet\n",
    "df_disbursements.head(), df_repayments.head()\n"
   ]
  },
  {
   "cell_type": "code",
   "execution_count": 39,
   "id": "005bca59-3681-45fc-b949-d94dba2c9a87",
   "metadata": {},
   "outputs": [
    {
     "data": {
      "text/html": [
       "<div>\n",
       "<style scoped>\n",
       "    .dataframe tbody tr th:only-of-type {\n",
       "        vertical-align: middle;\n",
       "    }\n",
       "\n",
       "    .dataframe tbody tr th {\n",
       "        vertical-align: top;\n",
       "    }\n",
       "\n",
       "    .dataframe thead th {\n",
       "        text-align: right;\n",
       "    }\n",
       "</style>\n",
       "<table border=\"1\" class=\"dataframe\">\n",
       "  <thead>\n",
       "    <tr style=\"text-align: right;\">\n",
       "      <th></th>\n",
       "      <th>Total_Disbursed</th>\n",
       "      <th>Total_Loan_Fees</th>\n",
       "      <th>Total_Repaid</th>\n",
       "      <th>Profit_Loss</th>\n",
       "    </tr>\n",
       "    <tr>\n",
       "      <th>disb_date</th>\n",
       "      <th></th>\n",
       "      <th></th>\n",
       "      <th></th>\n",
       "      <th></th>\n",
       "    </tr>\n",
       "  </thead>\n",
       "  <tbody>\n",
       "    <tr>\n",
       "      <th>2024-01-01</th>\n",
       "      <td>3179535</td>\n",
       "      <td>408502.15</td>\n",
       "      <td>3424762.01</td>\n",
       "      <td>-163275.14</td>\n",
       "    </tr>\n",
       "    <tr>\n",
       "      <th>2024-02-01</th>\n",
       "      <td>3430755</td>\n",
       "      <td>442186.79</td>\n",
       "      <td>3603851.65</td>\n",
       "      <td>-269090.14</td>\n",
       "    </tr>\n",
       "    <tr>\n",
       "      <th>2024-03-01</th>\n",
       "      <td>3934501</td>\n",
       "      <td>508657.31</td>\n",
       "      <td>4154367.32</td>\n",
       "      <td>-288790.99</td>\n",
       "    </tr>\n",
       "    <tr>\n",
       "      <th>2024-04-01</th>\n",
       "      <td>3936530</td>\n",
       "      <td>506603.30</td>\n",
       "      <td>4253738.69</td>\n",
       "      <td>-189394.61</td>\n",
       "    </tr>\n",
       "    <tr>\n",
       "      <th>2024-05-01</th>\n",
       "      <td>4018499</td>\n",
       "      <td>521668.75</td>\n",
       "      <td>4466721.70</td>\n",
       "      <td>-73446.05</td>\n",
       "    </tr>\n",
       "  </tbody>\n",
       "</table>\n",
       "</div>"
      ],
      "text/plain": [
       "            Total_Disbursed  Total_Loan_Fees  Total_Repaid  Profit_Loss\n",
       "disb_date                                                              \n",
       "2024-01-01          3179535        408502.15    3424762.01   -163275.14\n",
       "2024-02-01          3430755        442186.79    3603851.65   -269090.14\n",
       "2024-03-01          3934501        508657.31    4154367.32   -288790.99\n",
       "2024-04-01          3936530        506603.30    4253738.69   -189394.61\n",
       "2024-05-01          4018499        521668.75    4466721.70    -73446.05"
      ]
     },
     "execution_count": 39,
     "metadata": {},
     "output_type": "execute_result"
    }
   ],
   "source": [
    "# Convert date columns to datetime format\n",
    "df_disbursements[\"disb_date\"] = pd.to_datetime(df_disbursements[\"disb_date\"])\n",
    "df_repayments[\"date_time\"] = pd.to_datetime(df_repayments[\"date_time\"], format=\"%d-%b-%y %I.%M.%S.%f %p\")\n",
    "\n",
    "# Aggregate total disbursements per month\n",
    "disbursements_monthly = df_disbursements.groupby(df_disbursements[\"disb_date\"].dt.to_period(\"M\")).agg(\n",
    "    {\"loan_amount\": \"sum\", \"loan_fee\": \"sum\"}\n",
    ").rename(columns={\"loan_amount\": \"Total_Disbursed\", \"loan_fee\": \"Total_Loan_Fees\"})\n",
    "\n",
    "# Aggregate total repayments per month\n",
    "repayments_monthly = df_repayments.groupby(df_repayments[\"date_time\"].dt.to_period(\"M\")).agg(\n",
    "    {\"amount\": \"sum\"}\n",
    ").rename(columns={\"amount\": \"Total_Repaid\"})\n",
    "\n",
    "# Merge data on monthly periods\n",
    "df_profit_loss = disbursements_monthly.join(repayments_monthly, how=\"outer\").fillna(0)\n",
    "\n",
    "# Compute Profit/Loss per month\n",
    "df_profit_loss[\"Profit_Loss\"] = df_profit_loss[\"Total_Repaid\"] - (df_profit_loss[\"Total_Disbursed\"] + df_profit_loss[\"Total_Loan_Fees\"])\n",
    "\n",
    "# Convert period index to datetime index for ARIMA modeling\n",
    "df_profit_loss.index = df_profit_loss.index.to_timestamp()\n",
    "\n",
    "# Display processed data\n",
    "df_profit_loss.head()\n"
   ]
  },
  {
   "cell_type": "code",
   "execution_count": 40,
   "id": "1ac00183-ceb7-40a9-b8c0-aa3a2d522c31",
   "metadata": {},
   "outputs": [
    {
     "data": {
      "text/plain": [
       "0   2024-06-27 07:16:36\n",
       "1   2024-06-27 17:26:50\n",
       "2   2024-06-27 18:45:40\n",
       "3   2024-06-27 13:24:57\n",
       "4   2024-06-27 13:31:44\n",
       "5   2024-06-27 15:26:42\n",
       "6   2024-06-27 13:20:04\n",
       "7   2024-06-27 09:05:37\n",
       "8   2024-06-04 08:01:56\n",
       "9   2024-06-04 19:55:36\n",
       "Name: date_time, dtype: datetime64[ns]"
      ]
     },
     "execution_count": 40,
     "metadata": {},
     "output_type": "execute_result"
    }
   ],
   "source": [
    "# Display the first few values of the \"date_time\" column to determine the format\n",
    "df_repayments[\"date_time\"].head(10)\n"
   ]
  },
  {
   "cell_type": "code",
   "execution_count": 45,
   "id": "6c9bd4d0-261f-4783-8600-213079217093",
   "metadata": {},
   "outputs": [
    {
     "name": "stdout",
     "output_type": "stream",
     "text": [
      "datetime64[ns]\n",
      "0   2024-06-27 07:16:36\n",
      "1   2024-06-27 17:26:50\n",
      "2   2024-06-27 18:45:40\n",
      "3   2024-06-27 13:24:57\n",
      "4   2024-06-27 13:31:44\n",
      "Name: date_time, dtype: datetime64[ns]\n"
     ]
    },
    {
     "name": "stderr",
     "output_type": "stream",
     "text": [
      "C:\\Users\\LENOVO\\AppData\\Local\\Temp\\ipykernel_12344\\3793604038.py:5: UserWarning: The argument 'infer_datetime_format' is deprecated and will be removed in a future version. A strict version of it is now the default, see https://pandas.pydata.org/pdeps/0004-consistent-to-datetime-parsing.html. You can safely remove this argument.\n",
      "  df_repayments[\"date_time\"] = pd.to_datetime(df_repayments[\"date_time\"], errors=\"coerce\", infer_datetime_format=True)\n"
     ]
    }
   ],
   "source": [
    "# Ensure 'date_time' is a string before slicing\n",
    "df_repayments[\"date_time\"] = df_repayments[\"date_time\"].astype(str).str.slice(0, 22)\n",
    "\n",
    "# Convert to datetime format\n",
    "df_repayments[\"date_time\"] = pd.to_datetime(df_repayments[\"date_time\"], errors=\"coerce\", infer_datetime_format=True)\n",
    "\n",
    "# Check if the conversion worked\n",
    "print(df_repayments[\"date_time\"].dtype)\n",
    "print(df_repayments[\"date_time\"].head())\n"
   ]
  },
  {
   "cell_type": "code",
   "execution_count": 51,
   "id": "e3f4703b-c315-46f3-9aac-5d4ea21117db",
   "metadata": {},
   "outputs": [
    {
     "data": {
      "text/html": [
       "<div>\n",
       "<style scoped>\n",
       "    .dataframe tbody tr th:only-of-type {\n",
       "        vertical-align: middle;\n",
       "    }\n",
       "\n",
       "    .dataframe tbody tr th {\n",
       "        vertical-align: top;\n",
       "    }\n",
       "\n",
       "    .dataframe thead th {\n",
       "        text-align: right;\n",
       "    }\n",
       "</style>\n",
       "<table border=\"1\" class=\"dataframe\">\n",
       "  <thead>\n",
       "    <tr style=\"text-align: right;\">\n",
       "      <th></th>\n",
       "      <th>Total_Disbursed</th>\n",
       "      <th>Total_Loan_Fees</th>\n",
       "      <th>Total_Repaid</th>\n",
       "      <th>Profit_Loss</th>\n",
       "    </tr>\n",
       "    <tr>\n",
       "      <th>disb_date</th>\n",
       "      <th></th>\n",
       "      <th></th>\n",
       "      <th></th>\n",
       "      <th></th>\n",
       "    </tr>\n",
       "  </thead>\n",
       "  <tbody>\n",
       "    <tr>\n",
       "      <th>2024-01-01</th>\n",
       "      <td>3179535</td>\n",
       "      <td>408502.15</td>\n",
       "      <td>3424762.01</td>\n",
       "      <td>-163275.14</td>\n",
       "    </tr>\n",
       "    <tr>\n",
       "      <th>2024-02-01</th>\n",
       "      <td>3430755</td>\n",
       "      <td>442186.79</td>\n",
       "      <td>3603851.65</td>\n",
       "      <td>-269090.14</td>\n",
       "    </tr>\n",
       "    <tr>\n",
       "      <th>2024-03-01</th>\n",
       "      <td>3934501</td>\n",
       "      <td>508657.31</td>\n",
       "      <td>4154367.32</td>\n",
       "      <td>-288790.99</td>\n",
       "    </tr>\n",
       "    <tr>\n",
       "      <th>2024-04-01</th>\n",
       "      <td>3936530</td>\n",
       "      <td>506603.30</td>\n",
       "      <td>4253738.69</td>\n",
       "      <td>-189394.61</td>\n",
       "    </tr>\n",
       "    <tr>\n",
       "      <th>2024-05-01</th>\n",
       "      <td>4018499</td>\n",
       "      <td>521668.75</td>\n",
       "      <td>4466721.70</td>\n",
       "      <td>-73446.05</td>\n",
       "    </tr>\n",
       "  </tbody>\n",
       "</table>\n",
       "</div>"
      ],
      "text/plain": [
       "            Total_Disbursed  Total_Loan_Fees  Total_Repaid  Profit_Loss\n",
       "disb_date                                                              \n",
       "2024-01-01          3179535        408502.15    3424762.01   -163275.14\n",
       "2024-02-01          3430755        442186.79    3603851.65   -269090.14\n",
       "2024-03-01          3934501        508657.31    4154367.32   -288790.99\n",
       "2024-04-01          3936530        506603.30    4253738.69   -189394.61\n",
       "2024-05-01          4018499        521668.75    4466721.70    -73446.05"
      ]
     },
     "execution_count": 51,
     "metadata": {},
     "output_type": "execute_result"
    }
   ],
   "source": [
    "# Aggregate total disbursements per month\n",
    "disbursements_monthly = df_disbursements.groupby(df_disbursements[\"disb_date\"].dt.to_period(\"M\")).agg(\n",
    "    {\"loan_amount\": \"sum\", \"loan_fee\": \"sum\"}\n",
    ").rename(columns={\"loan_amount\": \"Total_Disbursed\", \"loan_fee\": \"Total_Loan_Fees\"})\n",
    "\n",
    "# Merge repayments and disbursements data\n",
    "df_profit_loss = disbursements_monthly.join(repayments_monthly, how=\"outer\").fillna(0)\n",
    "\n",
    "# Compute Profit/Loss per month\n",
    "df_profit_loss[\"Profit_Loss\"] = df_profit_loss[\"Total_Repaid\"] - (df_profit_loss[\"Total_Disbursed\"] + df_profit_loss[\"Total_Loan_Fees\"])\n",
    "\n",
    "# Convert period index to datetime index for ARIMA modeling\n",
    "df_profit_loss.index = df_profit_loss.index.to_timestamp()\n",
    "\n",
    "# Display processed dataset\n",
    "df_profit_loss.head()\n"
   ]
  },
  {
   "cell_type": "code",
   "execution_count": 54,
   "id": "5efe3626-4bac-4116-b117-8d875787fdc8",
   "metadata": {
    "scrolled": true
   },
   "outputs": [
    {
     "name": "stdout",
     "output_type": "stream",
     "text": [
      "ADF Statistic: 1.7295590031802075\n",
      "p-value: 0.9981985802978702\n",
      "The series is NOT stationary, differencing is needed.\n",
      "ADF p-value for d=1: 0.5469729746531432\n",
      "ADF p-value for d=2: 0.3860541132484372\n",
      "ADF p-value for d=3: 0.95386976392954\n",
      "No stationarity achieved, consider transforming data.\n"
     ]
    }
   ],
   "source": [
    "import statsmodels.api as sm\n",
    "from statsmodels.tsa.arima.model import ARIMA\n",
    "\n",
    "# Select the Profit/Loss column for time-series modeling\n",
    "profit_loss_series = df_profit_loss[\"Profit_Loss\"]\n",
    "\n",
    "# **Step 1: Check for Stationarity using ADF Test**\n",
    "# **Step 1: Check for Constant Values**\n",
    "if profit_loss_series.nunique() == 1:\n",
    "    print(\"All values in Profit/Loss series are constant. ARIMA cannot be applied.\")\n",
    "else:\n",
    "    # **Step 2: Check for Stationarity using ADF Test**\n",
    "    is_stationary = check_stationarity(profit_loss_series)\n",
    "\n",
    "    # **Step 3: Determine Order of Differencing (d) if needed**\n",
    "    def find_optimal_d(series, max_diff=3):\n",
    "        for d in range(1, max_diff+1):  # Start differencing from d=1\n",
    "            diff_series = series.diff(d).dropna()\n",
    "            p_value = sm.tsa.adfuller(diff_series)[1]\n",
    "            print(f\"ADF p-value for d={d}: {p_value}\")\n",
    "            if p_value < 0.05:\n",
    "                print(f\"Optimal differencing order (d) found: {d}\")\n",
    "                return d\n",
    "        print(\"No stationarity achieved, consider transforming data.\")\n",
    "        return max_diff\n",
    "\n",
    "    d_value = find_optimal_d(profit_loss_series)\n"
   ]
  },
  {
   "cell_type": "code",
   "execution_count": 56,
   "id": "50491655-f056-47ee-9788-32b53b1c6c60",
   "metadata": {},
   "outputs": [
    {
     "name": "stdout",
     "output_type": "stream",
     "text": [
      "ADF Statistic: -1.854267389689633\n",
      "p-value: 0.353871298025639\n",
      "The series is NOT stationary, differencing is needed.\n",
      "ADF p-value for d=1: 2.61030004613849e-07\n",
      "Optimal differencing order (d) found: 1\n"
     ]
    }
   ],
   "source": [
    "import numpy as np\n",
    "\n",
    "# Shift data by adding a constant to make all values positive\n",
    "shift_constant = abs(profit_loss_series.min()) + 1  # Ensure all values are >0\n",
    "profit_loss_series_shifted = profit_loss_series + shift_constant\n",
    "\n",
    "# Apply log transformation\n",
    "profit_loss_series_log = np.log1p(profit_loss_series_shifted)\n",
    "\n",
    "# Re-run ADF test\n",
    "is_stationary_log = check_stationarity(profit_loss_series_log)\n",
    "\n",
    "# If still non-stationary, find optimal differencing\n",
    "if not is_stationary_log:\n",
    "    d_value = find_optimal_d(profit_loss_series_log)\n",
    "\n",
    "# Convert forecasts back by reversing the shift\n",
    "def reverse_shift(log_forecast, shift_constant):\n",
    "    return np.expm1(log_forecast) - shift_constant\n"
   ]
  },
  {
   "cell_type": "code",
   "execution_count": 72,
   "id": "df0413a1-4926-4645-97dd-03250b830b57",
   "metadata": {},
   "outputs": [
    {
     "name": "stdout",
     "output_type": "stream",
     "text": [
      "                               SARIMAX Results                                \n",
      "==============================================================================\n",
      "Dep. Variable:            Profit_Loss   No. Observations:                    8\n",
      "Model:                 ARIMA(0, 1, 1)   Log Likelihood                 -20.946\n",
      "Date:                Fri, 21 Mar 2025   AIC                             45.892\n",
      "Time:                        15:12:31   BIC                             45.784\n",
      "Sample:                    01-01-2024   HQIC                            44.555\n",
      "                         - 08-01-2024                                         \n",
      "Covariance Type:                  opg                                         \n",
      "==============================================================================\n",
      "                 coef    std err          z      P>|z|      [0.025      0.975]\n",
      "------------------------------------------------------------------------------\n",
      "ma.L1         -0.6499      0.694     -0.937      0.349      -2.010       0.710\n",
      "sigma2        21.5079     15.313      1.405      0.160      -8.506      51.522\n",
      "===================================================================================\n",
      "Ljung-Box (L1) (Q):                   0.01   Jarque-Bera (JB):                 2.53\n",
      "Prob(Q):                              0.91   Prob(JB):                         0.28\n",
      "Heteroskedasticity (H):               0.12   Skew:                            -1.43\n",
      "Prob(H) (two-sided):                  0.22   Kurtosis:                         3.70\n",
      "===================================================================================\n",
      "\n",
      "Warnings:\n",
      "[1] Covariance matrix calculated using the outer product of gradients (complex-step).\n"
     ]
    }
   ],
   "source": [
    "# Define ARIMA Model with (p=1, d=1, q=1)\n",
    "p, q = 1, 1  \n",
    "model = ARIMA(profit_loss_series_log, order=(0, 1, 1)).fit()\n",
    "print(model.summary())"
   ]
  },
  {
   "cell_type": "code",
   "execution_count": 63,
   "id": "2407e88f-0745-4100-a6bd-2aebc9839b8a",
   "metadata": {},
   "outputs": [],
   "source": [
    "# Forecast next 3 months\n",
    "forecast_steps = 3\n",
    "forecast_log = fitted_model.forecast(steps=forecast_steps)"
   ]
  },
  {
   "cell_type": "code",
   "execution_count": 65,
   "id": "83b0e906-3491-4443-9f4f-ce94d89585d5",
   "metadata": {},
   "outputs": [
    {
     "name": "stdout",
     "output_type": "stream",
     "text": [
      "2024-09-01    11.861135\n",
      "2024-10-01    11.182589\n",
      "2024-11-01    10.995156\n",
      "Freq: MS, Name: predicted_mean, dtype: float64\n"
     ]
    }
   ],
   "source": [
    "print(forecast_log)\n"
   ]
  },
  {
   "cell_type": "code",
   "execution_count": 66,
   "id": "4d57decc-9a10-4cb8-aa14-dfec968e5a8c",
   "metadata": {},
   "outputs": [
    {
     "name": "stdout",
     "output_type": "stream",
     "text": [
      "            Forecast_Profit_Loss\n",
      "2024-09-01        -147140.091610\n",
      "2024-10-01        -216924.812977\n",
      "2024-11-01        -229208.159623\n"
     ]
    }
   ],
   "source": [
    "# Convert forecast back to original scale\n",
    "forecast_original_scale = np.expm1(forecast_log) - shift_constant\n",
    "\n",
    "# Create DataFrame for final forecasted values\n",
    "forecast_df = pd.DataFrame({\"Forecast_Profit_Loss\": forecast_original_scale}, index=forecast_log.index)\n",
    "\n",
    "# Print the final forecasted profit/loss\n",
    "print(forecast_df)\n"
   ]
  },
  {
   "cell_type": "code",
   "execution_count": 67,
   "id": "d2b2ab16-46b2-4f15-b3f7-c3d41b9644fd",
   "metadata": {},
   "outputs": [
    {
     "name": "stdout",
     "output_type": "stream",
     "text": [
      "Final Forecasted Profit/Loss Values:\n",
      "            Forecast_Profit_Loss\n",
      "2024-09-01        -147140.091610\n",
      "2024-10-01        -216924.812977\n",
      "2024-11-01        -229208.159623\n"
     ]
    }
   ],
   "source": [
    "# Ensure shift_constant is correctly defined\n",
    "shift_constant = abs(profit_loss_series.min()) + 1 if 'shift_constant' not in locals() else shift_constant\n",
    "\n",
    "# Convert forecast back to original scale\n",
    "forecast_original_scale = np.expm1(forecast_log) - shift_constant\n",
    "\n",
    "# Create DataFrame for final forecasted values\n",
    "forecast_df = pd.DataFrame({\"Forecast_Profit_Loss\": forecast_original_scale}, index=forecast_log.index)\n",
    "\n",
    "# Print the final forecasted profit/loss values\n",
    "print(\"Final Forecasted Profit/Loss Values:\")\n",
    "print(forecast_df)\n"
   ]
  },
  {
   "cell_type": "code",
   "execution_count": 71,
   "id": "4d81d732-1871-4b47-bf1f-ea4824e6c49a",
   "metadata": {},
   "outputs": [
    {
     "data": {
      "image/png": "[encoded data removed]",
      "text/plain": [
       "<Figure size 1000x500 with 1 Axes>"
      ]
     },
     "metadata": {},
     "output_type": "display_data"
    }
   ],
   "source": [
    "# **Step 3: Plot actual vs. forecasted profit/loss**\n",
    "plt.figure(figsize=(10, 5))\n",
    "plt.plot(df_profit_loss.index, df_profit_loss[\"Profit_Loss\"], label=\"Actual\", marker=\"o\")\n",
    "plt.plot(forecast_df.index, forecast_df[\"Forecast_Profit_Loss\"], label=\"Forecast\", marker=\"x\", linestyle=\"dashed\", color='red')\n",
    "plt.xlabel(\"Date\")\n",
    "plt.ylabel(\"Profit/Loss\")\n",
    "plt.title(\"Actual vs. Forecasted Profit/Loss (Next 3 Months)\")\n",
    "plt.legend()\n",
    "plt.show()\n"
   ]
  }
 ],
 "metadata": {
  "kernelspec": {
   "display_name": "Python 3 (ipykernel)",
   "language": "python",
   "name": "python3"
  },
  "language_info": {
   "codemirror_mode": {
    "name": "ipython",
    "version": 3
   },
   "file_extension": ".py",
   "mimetype": "text/x-python",
   "name": "python",
   "nbconvert_exporter": "python",
   "pygments_lexer": "ipython3",
   "version": "3.13.0"
  }
 },
 "nbformat": 4,
 "nbformat_minor": 5
}
